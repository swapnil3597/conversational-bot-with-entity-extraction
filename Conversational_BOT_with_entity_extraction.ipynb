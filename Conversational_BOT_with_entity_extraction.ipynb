{
  "nbformat": 4,
  "nbformat_minor": 0,
  "metadata": {
    "colab": {
      "provenance": []
    },
    "kernelspec": {
      "name": "python3",
      "display_name": "Python 3"
    },
    "language_info": {
      "name": "python"
    }
  },
  "cells": [
    {
      "cell_type": "markdown",
      "source": [
        "# Conversational BOT with entity extraction\n",
        "\n",
        "Goal is to create a **conversational chatbot** capable of asking questions in order to fulfil user's query and also parse all the entities required to fulfils user's request.\n",
        "\n",
        "**Example Scenario:**\n",
        "```text\n",
        "USER: I want to book airline ticket\n",
        "AI AGENT: Sure, Can you please provide me with the source and destination\n",
        "USER: Yes, Please book ticket from A to B\n",
        "AI AGENT: Sure, I have booked the ticket for you. Here's you airline ticket from A to B: <link-to-ticket>\n",
        "```"
      ],
      "metadata": {
        "id": "18xzeU39-HI7"
      }
    },
    {
      "cell_type": "markdown",
      "source": [
        "# Install required libraries"
      ],
      "metadata": {
        "id": "FeOjtasGy0T1"
      }
    },
    {
      "cell_type": "code",
      "source": [
        "!pip install langchain"
      ],
      "metadata": {
        "id": "V6epOt8Ly2vN"
      },
      "execution_count": null,
      "outputs": []
    },
    {
      "cell_type": "markdown",
      "source": [
        "# Defining ENV variable for Open-AI API key"
      ],
      "metadata": {
        "id": "Yqh3rtyBysPj"
      }
    },
    {
      "cell_type": "code",
      "execution_count": 2,
      "metadata": {
        "id": "Xim6nbeEyT4s"
      },
      "outputs": [],
      "source": [
        "import os\n",
        "os.environ[\"OPENAI_API_KEY\"] = \"YOUR_API_KEY_HERE\" # TODO"
      ]
    },
    {
      "cell_type": "markdown",
      "source": [
        "# Defining LLM:"
      ],
      "metadata": {
        "id": "1A75cG6azDMO"
      }
    },
    {
      "cell_type": "code",
      "source": [
        "from langchain.llms import OpenAI\n",
        "llm = OpenAI(model_name=\"text-davinci-003\") # gpt-3.5-turbo, text-davinci-003 works great"
      ],
      "metadata": {
        "id": "AalxRKwly73z"
      },
      "execution_count": 3,
      "outputs": []
    },
    {
      "cell_type": "markdown",
      "source": [
        "# Build a LangChain for conversational bot which is capable of extracting entities"
      ],
      "metadata": {
        "id": "-V7MFoz4zrlZ"
      }
    },
    {
      "cell_type": "code",
      "source": [
        "from langchain.llms import OpenAI\n",
        "from langchain import PromptTemplate\n",
        "from langchain.chains import ConversationChain\n",
        "from langchain.memory import ConversationBufferMemory\n",
        "\n",
        "# output would be expected in this format, later used in PromptTemplate\n",
        "output_json_schema = \"\"\"{\n",
        "    \"source_location\": string // This is source location which is to extract from the below conversation\n",
        "    \"destination_location\": string // This is destination location which is to extract from the below conversation\n",
        "    \"date\": string // This is travel date location which is to extract from the below conversation\n",
        "}\"\"\"\n",
        "\n",
        "# Define the template\n",
        "template = \"\"\"\n",
        "You are ticket booking agent, in order to book a ticket you need following information,\n",
        "- source location\n",
        "- destination location\n",
        "- date\n",
        "\n",
        "When user asks for booking a ticket. You should ask for above information if not already provided.\n",
        "Only after you get all the above information, please extract the following entities and convert it in a valid JSON key-value pair and response must be only the json:\n",
        "{output_json_schema}\n",
        "                \n",
        "Current conversation:\\n{history}\\nHuman: {input}\\nAI:\"\"\"\n",
        "\n",
        "# Defining memory\n",
        "memory = ConversationBufferMemory()\n",
        "\n",
        "# Defining conversation chain object\n",
        "conversation = ConversationChain(\n",
        "    llm=llm, \n",
        "    verbose=True, \n",
        "    memory=memory,\n",
        "    prompt=PromptTemplate(\n",
        "        input_variables=['history', 'input'],\n",
        "        output_parser=None, \n",
        "        partial_variables={\"output_json_schema\": output_json_schema},\n",
        "        template=template,\n",
        "        template_format='f-string',\n",
        "        validate_template=True)\n",
        ")"
      ],
      "metadata": {
        "id": "DeXaECUzznEr"
      },
      "execution_count": 26,
      "outputs": []
    },
    {
      "cell_type": "markdown",
      "source": [
        "# Conversation begins here:"
      ],
      "metadata": {
        "id": "HMnmYKsm0P_L"
      }
    },
    {
      "cell_type": "code",
      "source": [
        "response = conversation.predict(input=\"Hi there!, I want to book ticket\")\n",
        "print(response)"
      ],
      "metadata": {
        "colab": {
          "base_uri": "https://localhost:8080/"
        },
        "id": "EbBpj4zs0KCp",
        "outputId": "fac45a42-1b61-40e2-ed77-8d1509fd9560"
      },
      "execution_count": 27,
      "outputs": [
        {
          "output_type": "stream",
          "name": "stdout",
          "text": [
            "\n",
            "\n",
            "\u001b[1m> Entering new ConversationChain chain...\u001b[0m\n",
            "Prompt after formatting:\n",
            "\u001b[32;1m\u001b[1;3m\n",
            "You are ticket booking agent, in order to book a ticket you need following information,\n",
            "- source location\n",
            "- destination location\n",
            "- date\n",
            "\n",
            "When user asks for booking a ticket. You should ask for above information if not already provided.\n",
            "Only after you get all the above information, please extract the following entities and convert it in a valid JSON key-value pair and response must be only the json:\n",
            "{\n",
            "    \"source_location\": string // This is source location which is to extract from the below conversation\n",
            "    \"destination_location\": string // This is destination location which is to extract from the below conversation\n",
            "    \"date\": string // This is travel date location which is to extract from the below conversation\n",
            "}\n",
            "                \n",
            "Current conversation:\n",
            "\n",
            "Human: Hi there!, I want to book ticket\n",
            "AI:\u001b[0m\n",
            "\n",
            "\u001b[1m> Finished chain.\u001b[0m\n",
            " Hi there! Where do you want to travel from?\n"
          ]
        }
      ]
    },
    {
      "cell_type": "code",
      "source": [
        "response = conversation.predict(input=\"I want to book ticket from Mumbai to Delhi\")\n",
        "print(response)"
      ],
      "metadata": {
        "colab": {
          "base_uri": "https://localhost:8080/"
        },
        "id": "NhgQz7200WxJ",
        "outputId": "7b0b2f19-f3a4-436b-fc5d-ea3c58e95064"
      },
      "execution_count": 28,
      "outputs": [
        {
          "output_type": "stream",
          "name": "stdout",
          "text": [
            "\n",
            "\n",
            "\u001b[1m> Entering new ConversationChain chain...\u001b[0m\n",
            "Prompt after formatting:\n",
            "\u001b[32;1m\u001b[1;3m\n",
            "You are ticket booking agent, in order to book a ticket you need following information,\n",
            "- source location\n",
            "- destination location\n",
            "- date\n",
            "\n",
            "When user asks for booking a ticket. You should ask for above information if not already provided.\n",
            "Only after you get all the above information, please extract the following entities and convert it in a valid JSON key-value pair and response must be only the json:\n",
            "{\n",
            "    \"source_location\": string // This is source location which is to extract from the below conversation\n",
            "    \"destination_location\": string // This is destination location which is to extract from the below conversation\n",
            "    \"date\": string // This is travel date location which is to extract from the below conversation\n",
            "}\n",
            "                \n",
            "Current conversation:\n",
            "Human: Hi there!, I want to book ticket\n",
            "AI:  Hi there! Where do you want to travel from?\n",
            "Human: I want to book ticket from Mumbai to Delhi\n",
            "AI:\u001b[0m\n",
            "\n",
            "\u001b[1m> Finished chain.\u001b[0m\n",
            " Sure, when do you want to travel?\n"
          ]
        }
      ]
    },
    {
      "cell_type": "code",
      "source": [
        "response = conversation.predict(input=\"I want to travel on 18th April, 2023\")\n",
        "print(response)"
      ],
      "metadata": {
        "colab": {
          "base_uri": "https://localhost:8080/"
        },
        "id": "Pg1OHIho2L2y",
        "outputId": "11380731-b2b9-48b5-f3aa-999158271fbe"
      },
      "execution_count": 29,
      "outputs": [
        {
          "output_type": "stream",
          "name": "stdout",
          "text": [
            "\n",
            "\n",
            "\u001b[1m> Entering new ConversationChain chain...\u001b[0m\n",
            "Prompt after formatting:\n",
            "\u001b[32;1m\u001b[1;3m\n",
            "You are ticket booking agent, in order to book a ticket you need following information,\n",
            "- source location\n",
            "- destination location\n",
            "- date\n",
            "\n",
            "When user asks for booking a ticket. You should ask for above information if not already provided.\n",
            "Only after you get all the above information, please extract the following entities and convert it in a valid JSON key-value pair and response must be only the json:\n",
            "{\n",
            "    \"source_location\": string // This is source location which is to extract from the below conversation\n",
            "    \"destination_location\": string // This is destination location which is to extract from the below conversation\n",
            "    \"date\": string // This is travel date location which is to extract from the below conversation\n",
            "}\n",
            "                \n",
            "Current conversation:\n",
            "Human: Hi there!, I want to book ticket\n",
            "AI:  Hi there! Where do you want to travel from?\n",
            "Human: I want to book ticket from Mumbai to Delhi\n",
            "AI:  Sure, when do you want to travel?\n",
            "Human: I want to travel on 18th April, 2023\n",
            "AI:\u001b[0m\n",
            "\n",
            "\u001b[1m> Finished chain.\u001b[0m\n",
            "\n",
            "{\n",
            "    \"source_location\": \"Mumbai\",\n",
            "    \"destination_location\": \"Delhi\",\n",
            "    \"date\": \"18th April, 2023\"\n",
            "}\n"
          ]
        }
      ]
    },
    {
      "cell_type": "code",
      "source": [
        "import json\n",
        "\n",
        "# Parse output_dict from final json response obtained in conversation, which can be used as an input to an API\n",
        "output_dict = json.loads(response)\n",
        "output_dict"
      ],
      "metadata": {
        "colab": {
          "base_uri": "https://localhost:8080/"
        },
        "id": "bWzdpqFS2RwP",
        "outputId": "bc889de0-fc94-4c47-c26e-d943f7c2d737"
      },
      "execution_count": 31,
      "outputs": [
        {
          "output_type": "execute_result",
          "data": {
            "text/plain": [
              "{'source_location': 'Mumbai',\n",
              " 'destination_location': 'Delhi',\n",
              " 'date': '18th April, 2023'}"
            ]
          },
          "metadata": {},
          "execution_count": 31
        }
      ]
    },
    {
      "cell_type": "code",
      "source": [],
      "metadata": {
        "id": "zbAlGpdi30So"
      },
      "execution_count": null,
      "outputs": []
    }
  ]
}